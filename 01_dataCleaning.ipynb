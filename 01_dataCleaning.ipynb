{
  "cells": [
    {
      "cell_type": "markdown",
      "id": "96738ad8",
      "metadata": {
        "id": "96738ad8"
      },
      "source": [
        "# Data Cleaning"
      ]
    },
    {
      "cell_type": "code",
      "execution_count": 13,
      "id": "d5774b62",
      "metadata": {
        "colab": {
          "base_uri": "https://localhost:8080/",
          "height": 206
        },
        "id": "d5774b62",
        "outputId": "ed4a8db4-adb5-4a86-f2a4-9b708652af61"
      },
      "outputs": [
        {
          "data": {
            "text/html": [
              "<div>\n",
              "<style scoped>\n",
              "    .dataframe tbody tr th:only-of-type {\n",
              "        vertical-align: middle;\n",
              "    }\n",
              "\n",
              "    .dataframe tbody tr th {\n",
              "        vertical-align: top;\n",
              "    }\n",
              "\n",
              "    .dataframe thead th {\n",
              "        text-align: right;\n",
              "    }\n",
              "</style>\n",
              "<table border=\"1\" class=\"dataframe\">\n",
              "  <thead>\n",
              "    <tr style=\"text-align: right;\">\n",
              "      <th></th>\n",
              "      <th>recency</th>\n",
              "      <th>history_segment</th>\n",
              "      <th>history</th>\n",
              "      <th>mens</th>\n",
              "      <th>womens</th>\n",
              "      <th>zip_code</th>\n",
              "      <th>newbie</th>\n",
              "      <th>channel</th>\n",
              "      <th>segment</th>\n",
              "      <th>visit</th>\n",
              "      <th>conversion</th>\n",
              "      <th>spend</th>\n",
              "      <th>DM_category</th>\n",
              "    </tr>\n",
              "  </thead>\n",
              "  <tbody>\n",
              "    <tr>\n",
              "      <th>0</th>\n",
              "      <td>10</td>\n",
              "      <td>2) $100 - $200</td>\n",
              "      <td>142.44</td>\n",
              "      <td>1</td>\n",
              "      <td>0</td>\n",
              "      <td>Surburban</td>\n",
              "      <td>0</td>\n",
              "      <td>Phone</td>\n",
              "      <td>Womens E-Mail</td>\n",
              "      <td>0</td>\n",
              "      <td>0</td>\n",
              "      <td>0.0</td>\n",
              "      <td>4</td>\n",
              "    </tr>\n",
              "    <tr>\n",
              "      <th>1</th>\n",
              "      <td>6</td>\n",
              "      <td>3) $200 - $350</td>\n",
              "      <td>329.08</td>\n",
              "      <td>1</td>\n",
              "      <td>1</td>\n",
              "      <td>Rural</td>\n",
              "      <td>1</td>\n",
              "      <td>Web</td>\n",
              "      <td>No E-Mail</td>\n",
              "      <td>0</td>\n",
              "      <td>0</td>\n",
              "      <td>0.0</td>\n",
              "      <td>11</td>\n",
              "    </tr>\n",
              "    <tr>\n",
              "      <th>2</th>\n",
              "      <td>7</td>\n",
              "      <td>2) $100 - $200</td>\n",
              "      <td>180.65</td>\n",
              "      <td>0</td>\n",
              "      <td>1</td>\n",
              "      <td>Surburban</td>\n",
              "      <td>1</td>\n",
              "      <td>Web</td>\n",
              "      <td>Womens E-Mail</td>\n",
              "      <td>0</td>\n",
              "      <td>0</td>\n",
              "      <td>0.0</td>\n",
              "      <td>1</td>\n",
              "    </tr>\n",
              "    <tr>\n",
              "      <th>3</th>\n",
              "      <td>9</td>\n",
              "      <td>5) $500 - $750</td>\n",
              "      <td>675.83</td>\n",
              "      <td>1</td>\n",
              "      <td>0</td>\n",
              "      <td>Rural</td>\n",
              "      <td>1</td>\n",
              "      <td>Web</td>\n",
              "      <td>Mens E-Mail</td>\n",
              "      <td>0</td>\n",
              "      <td>0</td>\n",
              "      <td>0.0</td>\n",
              "      <td>2</td>\n",
              "    </tr>\n",
              "    <tr>\n",
              "      <th>4</th>\n",
              "      <td>2</td>\n",
              "      <td>1) $0 - $100</td>\n",
              "      <td>45.34</td>\n",
              "      <td>1</td>\n",
              "      <td>0</td>\n",
              "      <td>Urban</td>\n",
              "      <td>0</td>\n",
              "      <td>Web</td>\n",
              "      <td>Womens E-Mail</td>\n",
              "      <td>0</td>\n",
              "      <td>0</td>\n",
              "      <td>0.0</td>\n",
              "      <td>4</td>\n",
              "    </tr>\n",
              "  </tbody>\n",
              "</table>\n",
              "</div>"
            ],
            "text/plain": [
              "   recency history_segment  history  mens  womens   zip_code  newbie channel  \\\n",
              "0       10  2) $100 - $200   142.44     1       0  Surburban       0   Phone   \n",
              "1        6  3) $200 - $350   329.08     1       1      Rural       1     Web   \n",
              "2        7  2) $100 - $200   180.65     0       1  Surburban       1     Web   \n",
              "3        9  5) $500 - $750   675.83     1       0      Rural       1     Web   \n",
              "4        2    1) $0 - $100    45.34     1       0      Urban       0     Web   \n",
              "\n",
              "         segment  visit  conversion  spend  DM_category  \n",
              "0  Womens E-Mail      0           0    0.0            4  \n",
              "1      No E-Mail      0           0    0.0           11  \n",
              "2  Womens E-Mail      0           0    0.0            1  \n",
              "3    Mens E-Mail      0           0    0.0            2  \n",
              "4  Womens E-Mail      0           0    0.0            4  "
            ]
          },
          "execution_count": 13,
          "metadata": {},
          "output_type": "execute_result"
        }
      ],
      "source": [
        "import pandas as pd\n",
        "\n",
        "df_cl = pd.read_csv('example_classification.csv')\n",
        "df_cl.head()"
      ]
    },
    {
      "cell_type": "code",
      "execution_count": 8,
      "id": "02a592ab",
      "metadata": {},
      "outputs": [
        {
          "data": {
            "text/html": [
              "<div>\n",
              "<style scoped>\n",
              "    .dataframe tbody tr th:only-of-type {\n",
              "        vertical-align: middle;\n",
              "    }\n",
              "\n",
              "    .dataframe tbody tr th {\n",
              "        vertical-align: top;\n",
              "    }\n",
              "\n",
              "    .dataframe thead th {\n",
              "        text-align: right;\n",
              "    }\n",
              "</style>\n",
              "<table border=\"1\" class=\"dataframe\">\n",
              "  <thead>\n",
              "    <tr style=\"text-align: right;\">\n",
              "      <th></th>\n",
              "      <th>CRIM</th>\n",
              "      <th>ZN</th>\n",
              "      <th>INDUS</th>\n",
              "      <th>CHAS</th>\n",
              "      <th>NOX</th>\n",
              "      <th>RM</th>\n",
              "      <th>AGE</th>\n",
              "      <th>DIS</th>\n",
              "      <th>RAD</th>\n",
              "      <th>TAX</th>\n",
              "      <th>PTRATIO</th>\n",
              "      <th>B</th>\n",
              "      <th>LSTAT</th>\n",
              "      <th>MEDV</th>\n",
              "    </tr>\n",
              "  </thead>\n",
              "  <tbody>\n",
              "    <tr>\n",
              "      <th>0</th>\n",
              "      <td>0.00632</td>\n",
              "      <td>18.0</td>\n",
              "      <td>2.31</td>\n",
              "      <td>0</td>\n",
              "      <td>0.538</td>\n",
              "      <td>6.575</td>\n",
              "      <td>65.2</td>\n",
              "      <td>4.0900</td>\n",
              "      <td>1</td>\n",
              "      <td>296.0</td>\n",
              "      <td>15.3</td>\n",
              "      <td>396.90</td>\n",
              "      <td>4.98</td>\n",
              "      <td>24.0</td>\n",
              "    </tr>\n",
              "    <tr>\n",
              "      <th>1</th>\n",
              "      <td>0.02731</td>\n",
              "      <td>0.0</td>\n",
              "      <td>7.07</td>\n",
              "      <td>0</td>\n",
              "      <td>0.469</td>\n",
              "      <td>6.421</td>\n",
              "      <td>78.9</td>\n",
              "      <td>4.9671</td>\n",
              "      <td>2</td>\n",
              "      <td>242.0</td>\n",
              "      <td>17.8</td>\n",
              "      <td>396.90</td>\n",
              "      <td>9.14</td>\n",
              "      <td>21.6</td>\n",
              "    </tr>\n",
              "    <tr>\n",
              "      <th>2</th>\n",
              "      <td>0.02729</td>\n",
              "      <td>0.0</td>\n",
              "      <td>7.07</td>\n",
              "      <td>0</td>\n",
              "      <td>0.469</td>\n",
              "      <td>7.185</td>\n",
              "      <td>61.1</td>\n",
              "      <td>4.9671</td>\n",
              "      <td>2</td>\n",
              "      <td>242.0</td>\n",
              "      <td>17.8</td>\n",
              "      <td>392.83</td>\n",
              "      <td>4.03</td>\n",
              "      <td>34.7</td>\n",
              "    </tr>\n",
              "    <tr>\n",
              "      <th>3</th>\n",
              "      <td>0.03237</td>\n",
              "      <td>0.0</td>\n",
              "      <td>2.18</td>\n",
              "      <td>0</td>\n",
              "      <td>0.458</td>\n",
              "      <td>6.998</td>\n",
              "      <td>45.8</td>\n",
              "      <td>6.0622</td>\n",
              "      <td>3</td>\n",
              "      <td>222.0</td>\n",
              "      <td>18.7</td>\n",
              "      <td>394.63</td>\n",
              "      <td>2.94</td>\n",
              "      <td>33.4</td>\n",
              "    </tr>\n",
              "    <tr>\n",
              "      <th>4</th>\n",
              "      <td>0.06905</td>\n",
              "      <td>0.0</td>\n",
              "      <td>2.18</td>\n",
              "      <td>0</td>\n",
              "      <td>0.458</td>\n",
              "      <td>7.147</td>\n",
              "      <td>54.2</td>\n",
              "      <td>6.0622</td>\n",
              "      <td>3</td>\n",
              "      <td>222.0</td>\n",
              "      <td>18.7</td>\n",
              "      <td>396.90</td>\n",
              "      <td>5.33</td>\n",
              "      <td>36.2</td>\n",
              "    </tr>\n",
              "  </tbody>\n",
              "</table>\n",
              "</div>"
            ],
            "text/plain": [
              "      CRIM    ZN  INDUS  CHAS    NOX     RM   AGE     DIS  RAD    TAX  \\\n",
              "0  0.00632  18.0   2.31     0  0.538  6.575  65.2  4.0900    1  296.0   \n",
              "1  0.02731   0.0   7.07     0  0.469  6.421  78.9  4.9671    2  242.0   \n",
              "2  0.02729   0.0   7.07     0  0.469  7.185  61.1  4.9671    2  242.0   \n",
              "3  0.03237   0.0   2.18     0  0.458  6.998  45.8  6.0622    3  222.0   \n",
              "4  0.06905   0.0   2.18     0  0.458  7.147  54.2  6.0622    3  222.0   \n",
              "\n",
              "   PTRATIO       B  LSTAT  MEDV  \n",
              "0     15.3  396.90   4.98  24.0  \n",
              "1     17.8  396.90   9.14  21.6  \n",
              "2     17.8  392.83   4.03  34.7  \n",
              "3     18.7  394.63   2.94  33.4  \n",
              "4     18.7  396.90   5.33  36.2  "
            ]
          },
          "execution_count": 8,
          "metadata": {},
          "output_type": "execute_result"
        }
      ],
      "source": [
        "import pandas as pd\n",
        "\n",
        "df_rg = pd.read_csv('example_regression.csv')\n",
        "df_rg.head()"
      ]
    },
    {
      "cell_type": "markdown",
      "id": "ef06ad80",
      "metadata": {},
      "source": [
        "## CLASSIFIER"
      ]
    },
    {
      "cell_type": "markdown",
      "id": "e0788e55",
      "metadata": {},
      "source": [
        "### Output identification"
      ]
    },
    {
      "cell_type": "code",
      "execution_count": 15,
      "id": "E18DkuDPJepf",
      "metadata": {
        "id": "E18DkuDPJepf"
      },
      "outputs": [
        {
          "data": {
            "text/plain": [
              "conversion\n",
              "0    63422\n",
              "1      578\n",
              "Name: count, dtype: int64"
            ]
          },
          "execution_count": 15,
          "metadata": {},
          "output_type": "execute_result"
        }
      ],
      "source": [
        "output_name_cl = 'conversion'\n",
        "df_cl[output_name_cl].value_counts()"
      ]
    },
    {
      "cell_type": "code",
      "execution_count": 7,
      "id": "gAVxYPfVF_Fe",
      "metadata": {
        "id": "gAVxYPfVF_Fe"
      },
      "outputs": [
        {
          "name": "stdout",
          "output_type": "stream",
          "text": [
            "This dataset has these classes as outputs: [0, 1]\n"
          ]
        }
      ],
      "source": [
        "import math\n",
        "output_values = []\n",
        "for e in set(df_cl[output_name_cl]):\n",
        "  if not math.isnan(e):\n",
        "      output_values.append(e)\n",
        "\n",
        "print(f'This dataset has these classes as outputs: {output_values}')"
      ]
    },
    {
      "cell_type": "markdown",
      "id": "e3186c3b",
      "metadata": {},
      "source": [
        "### Missing Values"
      ]
    },
    {
      "cell_type": "markdown",
      "id": "796a6818",
      "metadata": {},
      "source": [
        "##### 1) Identify the type of missing data"
      ]
    },
    {
      "cell_type": "markdown",
      "id": "ab29cdc0",
      "metadata": {},
      "source": [
        "* **Missing Completely at Random (MCAR):** The probability of a data point being missing is entirely random and independent of any other variable in the dataset. In simpler terms, whether a value is missing or not has nothing to do with the values of other variables or the characteristics of the data point itself.\n",
        "\n",
        "* **Missing at Random (MAR):** The probability of a data point missing depends on the values of other variables in the dataset, but not on the missing variable itself. This means that the missingness mechanism is not entirely random, but it can be predicted based on the available information\n",
        "\n",
        "* **Missing Not at Random (MNAR):** The probability of a data point being missing is related to the missing value itself. This means that the reason for the missing data is informative and directly associated with the variable that is missing."
      ]
    },
    {
      "cell_type": "code",
      "execution_count": 35,
      "id": "0de99024",
      "metadata": {},
      "outputs": [
        {
          "data": {
            "text/plain": [
              "recency            0\n",
              "history_segment    0\n",
              "history            0\n",
              "mens               0\n",
              "womens             0\n",
              "zip_code           0\n",
              "newbie             0\n",
              "channel            0\n",
              "segment            0\n",
              "visit              0\n",
              "conversion         0\n",
              "spend              0\n",
              "DM_category        0\n",
              "dtype: int64"
            ]
          },
          "execution_count": 35,
          "metadata": {},
          "output_type": "execute_result"
        }
      ],
      "source": [
        "df_cl.isna().sum()"
      ]
    },
    {
      "cell_type": "code",
      "execution_count": 36,
      "id": "039bb6be",
      "metadata": {},
      "outputs": [
        {
          "data": {
            "text/plain": [
              "recency            0\n",
              "history_segment    0\n",
              "history            0\n",
              "mens               0\n",
              "womens             0\n",
              "zip_code           0\n",
              "newbie             0\n",
              "channel            0\n",
              "segment            0\n",
              "visit              0\n",
              "conversion         0\n",
              "spend              0\n",
              "DM_category        0\n",
              "dtype: int64"
            ]
          },
          "execution_count": 36,
          "metadata": {},
          "output_type": "execute_result"
        }
      ],
      "source": [
        "df_cl.isnull().sum()"
      ]
    },
    {
      "cell_type": "code",
      "execution_count": 40,
      "id": "4adc5e49",
      "metadata": {},
      "outputs": [
        {
          "data": {
            "text/plain": [
              "Index([], dtype='int64')"
            ]
          },
          "execution_count": 40,
          "metadata": {},
          "output_type": "execute_result"
        }
      ],
      "source": [
        "feature_with_missing_data = 'segment'\n",
        "df_cl[df_cl[feature_with_missing_data].isna()].index\n",
        "df_cl[df_cl[feature_with_missing_data].isna()]"
      ]
    },
    {
      "cell_type": "markdown",
      "id": "335a3307",
      "metadata": {},
      "source": [
        "##### 2) Evaluate the impact of missing data\n",
        "\n",
        "Is the missingness causing bias or affecting the analysis?"
      ]
    },
    {
      "cell_type": "code",
      "execution_count": 41,
      "id": "aabf46ee",
      "metadata": {},
      "outputs": [
        {
          "data": {
            "text/plain": [
              "recency            0.0\n",
              "history_segment    0.0\n",
              "history            0.0\n",
              "mens               0.0\n",
              "womens             0.0\n",
              "zip_code           0.0\n",
              "newbie             0.0\n",
              "channel            0.0\n",
              "segment            0.0\n",
              "visit              0.0\n",
              "conversion         0.0\n",
              "spend              0.0\n",
              "DM_category        0.0\n",
              "dtype: float64"
            ]
          },
          "execution_count": 41,
          "metadata": {},
          "output_type": "execute_result"
        }
      ],
      "source": [
        "df_cl.isnull().sum()/len(df_cl)"
      ]
    },
    {
      "cell_type": "markdown",
      "id": "8317ae37",
      "metadata": {},
      "source": [
        "##### 3) Choose appropriate handling strategies"
      ]
    },
    {
      "cell_type": "markdown",
      "id": "9f3a566c",
      "metadata": {},
      "source": [
        "**Drop missing values**"
      ]
    },
    {
      "cell_type": "code",
      "execution_count": null,
      "id": "b3ef16f1",
      "metadata": {},
      "outputs": [],
      "source": [
        "df_cl.dropna()"
      ]
    },
    {
      "cell_type": "markdown",
      "id": "e10a3331",
      "metadata": {},
      "source": [
        "**Replace missing values with mean, median or mode**"
      ]
    },
    {
      "cell_type": "code",
      "execution_count": null,
      "id": "fdaee3d7",
      "metadata": {},
      "outputs": [],
      "source": [
        "mean_imputation = df_cl[feature_with_missing_data].fillna(df_cl[feature_with_missing_data].mean())\n",
        "median_imputation = df_cl[feature_with_missing_data].fillna(df_cl[feature_with_missing_data].median())\n",
        "mode_imputation = df_cl[feature_with_missing_data].fillna(df_cl[feature_with_missing_data].mode().iloc[0])\n",
        "\n",
        "print(\"\\nImputation using Mean:\")\n",
        "print(mean_imputation)\n",
        "\n",
        "print(\"\\nImputation using Median:\")\n",
        "print(median_imputation)\n",
        "\n",
        "print(\"\\nImputation using Mode:\")\n",
        "print(mode_imputation)"
      ]
    },
    {
      "cell_type": "markdown",
      "id": "db979b74",
      "metadata": {},
      "source": [
        "**Replace missing values with forward and backward fill**"
      ]
    },
    {
      "cell_type": "code",
      "execution_count": null,
      "id": "06ab812d",
      "metadata": {},
      "outputs": [],
      "source": [
        "forward_fill = df_cl[feature_with_missing_data].fillna(method='ffill') \n",
        "# Uses the last valid observation to fill missing values.\n",
        "\n",
        "backward_fill = df_cl[feature_with_missing_data].fillna(method='bfill') \n",
        "# Uses the next valid observation to fill missing values.\n",
        "\n",
        "print(\"\\nForward Fill:\")\n",
        "print(forward_fill)\n",
        "\n",
        "print(\"\\nBackward Fill:\")\n",
        "print(backward_fill)"
      ]
    },
    {
      "cell_type": "markdown",
      "id": "b607eb42",
      "metadata": {},
      "source": [
        "**Replace missing values with interpolation**"
      ]
    },
    {
      "cell_type": "code",
      "execution_count": null,
      "id": "89b74b89",
      "metadata": {},
      "outputs": [],
      "source": [
        "linear_interpolation = df_cl[feature_with_missing_data].interpolate(method='linear') \n",
        "# Assumes a straight line between two adjacent non-missing values\n",
        "\n",
        "quadratic_interpolation = df_cl[feature_with_missing_data].interpolate(method='quadratic') \n",
        "# Assumes a quadratic curve that passes through three adjacent non-missing values.\n",
        "\n",
        "\n",
        "print(\"\\nLinear Interpolation:\")\n",
        "print(linear_interpolation)\n",
        "\n",
        "print(\"\\nQuadratic Interpolation:\")\n",
        "print(quadratic_interpolation)"
      ]
    },
    {
      "cell_type": "markdown",
      "id": "2a413b49",
      "metadata": {},
      "source": [
        "### Change datatypes"
      ]
    },
    {
      "cell_type": "code",
      "execution_count": null,
      "id": "258254ed",
      "metadata": {},
      "outputs": [],
      "source": [
        "feature_to_change_dtype = 'channel'\n",
        "df_cl[feature_to_change_dtype].astype(\"int64\") #int32, category"
      ]
    },
    {
      "cell_type": "code",
      "execution_count": null,
      "id": "56343573",
      "metadata": {},
      "outputs": [],
      "source": [
        "df_cl.convert_dtypes().dtypes #Convert columns to the best possible dtypes"
      ]
    },
    {
      "cell_type": "markdown",
      "id": "b3e69b07",
      "metadata": {},
      "source": [
        "### Class balancing"
      ]
    },
    {
      "cell_type": "code",
      "execution_count": 21,
      "id": "8a6a4be9",
      "metadata": {},
      "outputs": [
        {
          "name": "stdout",
          "output_type": "stream",
          "text": [
            "Maximum number of samples in class 0 with 63422 samples\n",
            "Minimum number of samples in class 1 with 578 samples\n"
          ]
        }
      ],
      "source": [
        "max_class = df_cl[output_name_cl].value_counts().idxmax()\n",
        "min_class = df_cl[output_name_cl].value_counts().idxmin()\n",
        "\n",
        "df_majority = df_cl[df_cl['conversion'] == max_class]\n",
        "df_minority = df_cl[df_cl['conversion'] == min_class]\n",
        "\n",
        "print('Maximum number of samples in class', max_class, f'with {len(df_majority)} samples')\n",
        "print('Minimum number of samples in class', min_class, f'with {len(df_minority)} samples')"
      ]
    },
    {
      "cell_type": "code",
      "execution_count": 33,
      "id": "5b2fc912",
      "metadata": {},
      "outputs": [
        {
          "name": "stdout",
          "output_type": "stream",
          "text": [
            "The class 0 will be reduced in 99.09%\n"
          ]
        }
      ],
      "source": [
        "print(f'The class {max_class} will be reduced in {round(100*(1-len(df_minority)/len(df_majority)),2)}%')"
      ]
    },
    {
      "cell_type": "code",
      "execution_count": 27,
      "id": "7d25fd21",
      "metadata": {},
      "outputs": [
        {
          "data": {
            "text/html": [
              "<div>\n",
              "<style scoped>\n",
              "    .dataframe tbody tr th:only-of-type {\n",
              "        vertical-align: middle;\n",
              "    }\n",
              "\n",
              "    .dataframe tbody tr th {\n",
              "        vertical-align: top;\n",
              "    }\n",
              "\n",
              "    .dataframe thead th {\n",
              "        text-align: right;\n",
              "    }\n",
              "</style>\n",
              "<table border=\"1\" class=\"dataframe\">\n",
              "  <thead>\n",
              "    <tr style=\"text-align: right;\">\n",
              "      <th></th>\n",
              "      <th>recency</th>\n",
              "      <th>history_segment</th>\n",
              "      <th>history</th>\n",
              "      <th>mens</th>\n",
              "      <th>womens</th>\n",
              "      <th>zip_code</th>\n",
              "      <th>newbie</th>\n",
              "      <th>channel</th>\n",
              "      <th>segment</th>\n",
              "      <th>visit</th>\n",
              "      <th>conversion</th>\n",
              "      <th>spend</th>\n",
              "      <th>DM_category</th>\n",
              "    </tr>\n",
              "  </thead>\n",
              "  <tbody>\n",
              "    <tr>\n",
              "      <th>0</th>\n",
              "      <td>9</td>\n",
              "      <td>1) $0 - $100</td>\n",
              "      <td>29.99</td>\n",
              "      <td>0</td>\n",
              "      <td>1</td>\n",
              "      <td>Urban</td>\n",
              "      <td>1</td>\n",
              "      <td>Phone</td>\n",
              "      <td>Mens E-Mail</td>\n",
              "      <td>0</td>\n",
              "      <td>0</td>\n",
              "      <td>0.00</td>\n",
              "      <td>3</td>\n",
              "    </tr>\n",
              "    <tr>\n",
              "      <th>1</th>\n",
              "      <td>6</td>\n",
              "      <td>3) $200 - $350</td>\n",
              "      <td>320.66</td>\n",
              "      <td>0</td>\n",
              "      <td>1</td>\n",
              "      <td>Surburban</td>\n",
              "      <td>1</td>\n",
              "      <td>Phone</td>\n",
              "      <td>Mens E-Mail</td>\n",
              "      <td>0</td>\n",
              "      <td>0</td>\n",
              "      <td>0.00</td>\n",
              "      <td>3</td>\n",
              "    </tr>\n",
              "    <tr>\n",
              "      <th>2</th>\n",
              "      <td>7</td>\n",
              "      <td>3) $200 - $350</td>\n",
              "      <td>298.44</td>\n",
              "      <td>0</td>\n",
              "      <td>1</td>\n",
              "      <td>Urban</td>\n",
              "      <td>0</td>\n",
              "      <td>Web</td>\n",
              "      <td>No E-Mail</td>\n",
              "      <td>0</td>\n",
              "      <td>0</td>\n",
              "      <td>0.00</td>\n",
              "      <td>5</td>\n",
              "    </tr>\n",
              "    <tr>\n",
              "      <th>3</th>\n",
              "      <td>2</td>\n",
              "      <td>6) $750 - $1,000</td>\n",
              "      <td>946.42</td>\n",
              "      <td>0</td>\n",
              "      <td>1</td>\n",
              "      <td>Urban</td>\n",
              "      <td>1</td>\n",
              "      <td>Multichannel</td>\n",
              "      <td>No E-Mail</td>\n",
              "      <td>0</td>\n",
              "      <td>0</td>\n",
              "      <td>0.00</td>\n",
              "      <td>5</td>\n",
              "    </tr>\n",
              "    <tr>\n",
              "      <th>4</th>\n",
              "      <td>2</td>\n",
              "      <td>5) $500 - $750</td>\n",
              "      <td>534.88</td>\n",
              "      <td>1</td>\n",
              "      <td>0</td>\n",
              "      <td>Surburban</td>\n",
              "      <td>1</td>\n",
              "      <td>Web</td>\n",
              "      <td>Mens E-Mail</td>\n",
              "      <td>0</td>\n",
              "      <td>0</td>\n",
              "      <td>0.00</td>\n",
              "      <td>2</td>\n",
              "    </tr>\n",
              "    <tr>\n",
              "      <th>...</th>\n",
              "      <td>...</td>\n",
              "      <td>...</td>\n",
              "      <td>...</td>\n",
              "      <td>...</td>\n",
              "      <td>...</td>\n",
              "      <td>...</td>\n",
              "      <td>...</td>\n",
              "      <td>...</td>\n",
              "      <td>...</td>\n",
              "      <td>...</td>\n",
              "      <td>...</td>\n",
              "      <td>...</td>\n",
              "      <td>...</td>\n",
              "    </tr>\n",
              "    <tr>\n",
              "      <th>1151</th>\n",
              "      <td>9</td>\n",
              "      <td>5) $500 - $750</td>\n",
              "      <td>536.80</td>\n",
              "      <td>1</td>\n",
              "      <td>1</td>\n",
              "      <td>Rural</td>\n",
              "      <td>1</td>\n",
              "      <td>Web</td>\n",
              "      <td>No E-Mail</td>\n",
              "      <td>1</td>\n",
              "      <td>1</td>\n",
              "      <td>117.84</td>\n",
              "      <td>11</td>\n",
              "    </tr>\n",
              "    <tr>\n",
              "      <th>1152</th>\n",
              "      <td>2</td>\n",
              "      <td>6) $750 - $1,000</td>\n",
              "      <td>980.39</td>\n",
              "      <td>1</td>\n",
              "      <td>0</td>\n",
              "      <td>Urban</td>\n",
              "      <td>1</td>\n",
              "      <td>Phone</td>\n",
              "      <td>No E-Mail</td>\n",
              "      <td>1</td>\n",
              "      <td>1</td>\n",
              "      <td>90.57</td>\n",
              "      <td>6</td>\n",
              "    </tr>\n",
              "    <tr>\n",
              "      <th>1153</th>\n",
              "      <td>5</td>\n",
              "      <td>3) $200 - $350</td>\n",
              "      <td>210.12</td>\n",
              "      <td>0</td>\n",
              "      <td>1</td>\n",
              "      <td>Surburban</td>\n",
              "      <td>0</td>\n",
              "      <td>Phone</td>\n",
              "      <td>Womens E-Mail</td>\n",
              "      <td>1</td>\n",
              "      <td>1</td>\n",
              "      <td>113.44</td>\n",
              "      <td>1</td>\n",
              "    </tr>\n",
              "    <tr>\n",
              "      <th>1154</th>\n",
              "      <td>2</td>\n",
              "      <td>3) $200 - $350</td>\n",
              "      <td>215.61</td>\n",
              "      <td>1</td>\n",
              "      <td>0</td>\n",
              "      <td>Rural</td>\n",
              "      <td>0</td>\n",
              "      <td>Web</td>\n",
              "      <td>Mens E-Mail</td>\n",
              "      <td>1</td>\n",
              "      <td>1</td>\n",
              "      <td>99.49</td>\n",
              "      <td>2</td>\n",
              "    </tr>\n",
              "    <tr>\n",
              "      <th>1155</th>\n",
              "      <td>1</td>\n",
              "      <td>3) $200 - $350</td>\n",
              "      <td>239.70</td>\n",
              "      <td>1</td>\n",
              "      <td>1</td>\n",
              "      <td>Urban</td>\n",
              "      <td>1</td>\n",
              "      <td>Web</td>\n",
              "      <td>Womens E-Mail</td>\n",
              "      <td>1</td>\n",
              "      <td>1</td>\n",
              "      <td>154.20</td>\n",
              "      <td>5</td>\n",
              "    </tr>\n",
              "  </tbody>\n",
              "</table>\n",
              "<p>1156 rows × 13 columns</p>\n",
              "</div>"
            ],
            "text/plain": [
              "      recency   history_segment  history  mens  womens   zip_code  newbie  \\\n",
              "0           9      1) $0 - $100    29.99     0       1      Urban       1   \n",
              "1           6    3) $200 - $350   320.66     0       1  Surburban       1   \n",
              "2           7    3) $200 - $350   298.44     0       1      Urban       0   \n",
              "3           2  6) $750 - $1,000   946.42     0       1      Urban       1   \n",
              "4           2    5) $500 - $750   534.88     1       0  Surburban       1   \n",
              "...       ...               ...      ...   ...     ...        ...     ...   \n",
              "1151        9    5) $500 - $750   536.80     1       1      Rural       1   \n",
              "1152        2  6) $750 - $1,000   980.39     1       0      Urban       1   \n",
              "1153        5    3) $200 - $350   210.12     0       1  Surburban       0   \n",
              "1154        2    3) $200 - $350   215.61     1       0      Rural       0   \n",
              "1155        1    3) $200 - $350   239.70     1       1      Urban       1   \n",
              "\n",
              "           channel        segment  visit  conversion   spend  DM_category  \n",
              "0            Phone    Mens E-Mail      0           0    0.00            3  \n",
              "1            Phone    Mens E-Mail      0           0    0.00            3  \n",
              "2              Web      No E-Mail      0           0    0.00            5  \n",
              "3     Multichannel      No E-Mail      0           0    0.00            5  \n",
              "4              Web    Mens E-Mail      0           0    0.00            2  \n",
              "...            ...            ...    ...         ...     ...          ...  \n",
              "1151           Web      No E-Mail      1           1  117.84           11  \n",
              "1152         Phone      No E-Mail      1           1   90.57            6  \n",
              "1153         Phone  Womens E-Mail      1           1  113.44            1  \n",
              "1154           Web    Mens E-Mail      1           1   99.49            2  \n",
              "1155           Web  Womens E-Mail      1           1  154.20            5  \n",
              "\n",
              "[1156 rows x 13 columns]"
            ]
          },
          "execution_count": 27,
          "metadata": {},
          "output_type": "execute_result"
        }
      ],
      "source": [
        "from sklearn.utils import resample\n",
        "\n",
        "df_majority_downsampled = resample(df_majority, replace=False, n_samples=len(df_minority), random_state=42)\n",
        "\n",
        "df_balanced = pd.concat([df_majority_downsampled, df_minority])\n",
        "df_balanced = df_balanced.reset_index()\n",
        "del df_balanced['index']\n",
        "\n",
        "df_balanced"
      ]
    },
    {
      "cell_type": "markdown",
      "id": "68589a31",
      "metadata": {},
      "source": [
        "### Divide in features and output"
      ]
    },
    {
      "cell_type": "code",
      "execution_count": 34,
      "id": "3472eb2b",
      "metadata": {},
      "outputs": [
        {
          "name": "stdout",
          "output_type": "stream",
          "text": [
            "Features to study and create the ML model are ['recency' 'history_segment' 'history' 'mens' 'womens' 'zip_code' 'newbie'\n",
            " 'channel' 'segment' 'visit' 'spend' 'DM_category']\n",
            "Output class name is conversion\n"
          ]
        }
      ],
      "source": [
        "y = df_balanced[output_name_cl]\n",
        "X = df_balanced.copy()\n",
        "del X[output_name_cl]\n",
        "\n",
        "print('Features to study and create the ML model are', X.columns.values)\n",
        "print('Output class name is', y.name)"
      ]
    },
    {
      "cell_type": "markdown",
      "id": "0b986960",
      "metadata": {},
      "source": [
        "## REGRESSOR"
      ]
    },
    {
      "cell_type": "markdown",
      "id": "f6d3e254",
      "metadata": {},
      "source": [
        "#### Output identification"
      ]
    },
    {
      "cell_type": "code",
      "execution_count": 11,
      "id": "e9be6fba",
      "metadata": {},
      "outputs": [
        {
          "data": {
            "text/plain": [
              "count    506.000000\n",
              "mean      22.532806\n",
              "std        9.197104\n",
              "min        5.000000\n",
              "25%       17.025000\n",
              "50%       21.200000\n",
              "75%       25.000000\n",
              "max       50.000000\n",
              "Name: MEDV, dtype: float64"
            ]
          },
          "execution_count": 11,
          "metadata": {},
          "output_type": "execute_result"
        }
      ],
      "source": [
        "output_name_rg = 'MEDV'\n",
        "df_rg[output_name_rg].describe()"
      ]
    }
  ],
  "metadata": {
    "colab": {
      "collapsed_sections": [
        "b0def974"
      ],
      "provenance": [],
      "toc_visible": true
    },
    "kernelspec": {
      "display_name": "Python 3 (ipykernel)",
      "language": "python",
      "name": "python3"
    },
    "language_info": {
      "codemirror_mode": {
        "name": "ipython",
        "version": 3
      },
      "file_extension": ".py",
      "mimetype": "text/x-python",
      "name": "python",
      "nbconvert_exporter": "python",
      "pygments_lexer": "ipython3",
      "version": "3.9.13"
    },
    "toc": {
      "base_numbering": 1,
      "nav_menu": {},
      "number_sections": true,
      "sideBar": true,
      "skip_h1_title": false,
      "title_cell": "Table of Contents",
      "title_sidebar": "Contents",
      "toc_cell": false,
      "toc_position": {
        "height": "calc(100% - 180px)",
        "left": "10px",
        "top": "150px",
        "width": "376px"
      },
      "toc_section_display": true,
      "toc_window_display": true
    },
    "varInspector": {
      "cols": {
        "lenName": 16,
        "lenType": 16,
        "lenVar": 40
      },
      "kernels_config": {
        "python": {
          "delete_cmd_postfix": "",
          "delete_cmd_prefix": "del ",
          "library": "var_list.py",
          "varRefreshCmd": "print(var_dic_list())"
        },
        "r": {
          "delete_cmd_postfix": ") ",
          "delete_cmd_prefix": "rm(",
          "library": "var_list.r",
          "varRefreshCmd": "cat(var_dic_list()) "
        }
      },
      "types_to_exclude": [
        "module",
        "function",
        "builtin_function_or_method",
        "instance",
        "_Feature"
      ],
      "window_display": false
    }
  },
  "nbformat": 4,
  "nbformat_minor": 5
}
